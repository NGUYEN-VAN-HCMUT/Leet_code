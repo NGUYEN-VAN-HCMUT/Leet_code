{
  "nbformat": 4,
  "nbformat_minor": 0,
  "metadata": {
    "colab": {
      "name": "Palindrome.ipynb",
      "provenance": [],
      "authorship_tag": "ABX9TyNMCjKaFwA6vgNs0+5AXwxo",
      "include_colab_link": true
    },
    "kernelspec": {
      "name": "python3",
      "display_name": "Python 3"
    }
  },
  "cells": [
    {
      "cell_type": "markdown",
      "metadata": {
        "id": "view-in-github",
        "colab_type": "text"
      },
      "source": [
        "<a href=\"https://colab.research.google.com/github/NGUYEN-VAN-HCMUT/Leet_code/blob/main/Palindrome.ipynb\" target=\"_parent\"><img src=\"https://colab.research.google.com/assets/colab-badge.svg\" alt=\"Open In Colab\"/></a>"
      ]
    },
    {
      "cell_type": "markdown",
      "metadata": {
        "id": "mspXlLSP7zSu"
      },
      "source": [
        "Chuỗi Palindrome hay còn được gọi là chuỗi đối xứng tức là khi đọc xuôi hay đọc ngược đều giống nhau\r\n",
        "\r\n",
        "Phương pháp: Sử dụng kĩ thuật 2 con trỏ để làm giảm độ phức tạp của đoạn code"
      ]
    },
    {
      "cell_type": "code",
      "metadata": {
        "id": "zEBLpGtK63Qz"
      },
      "source": [
        "#Bước 1: Sử dụng 1 con trỏ i đặt ở đầu chuỗi\r\n",
        "#Bước 2: Tìm vị trí chỉ mục chính giữa (middle = độ dài chuỗi//2 làm tròn dưới) của chuỗi\r\n",
        "#Bước 3: Chạy vòng lặp từ vị trí ban đầu đến vị trí chính giữa\r\n",
        "   #Bước 3.1: Tại vị trí bất kỳ trong vòng lặp     \r\n",
        "             # Tại chỉ mục i có thể tìm được chỉ mục đối xứng j ( j = độ dài chuỗi -1-i) qua vị trí trung tâm của chuỗi\r\n",
        "   #Bước 3.2: So sánh chữ tại vị trí i và j\r\n",
        "            # Chỉ cần chữ tại 2 vị trí khác nhau thì có thể kết luận chữ này không phải Palindrome\r\n",
        "        #Bước 3.1 Tiếp tục logic như vị trí phía trước\r\n",
        "#Bước 4 Kết luận\r\n",
        "        # Nếu hàm không kết luận là chuỗi không phải Palindrome trong vòng lặp thì ta có thể kết luận sau khi kết thúc vòng lặp, chuỗi là Palindrome\r\n",
        "\r\n",
        "#Lưu ý: Độ dài chuỗi không nhất thiết phải là số chẵn."
      ],
      "execution_count": null,
      "outputs": []
    },
    {
      "cell_type": "code",
      "metadata": {
        "id": "JjbLLhqA8_d5"
      },
      "source": [
        "def isPalindrome(string):\r\n",
        "    i = 0\r\n",
        "    middle = len(string//2)\r\n",
        "    while i < middle:\r\n",
        "          j = len(string)-1-i\r\n",
        "          if string[i] != string[j]:\r\n",
        "              return False\r\n",
        "          i +=1\r\n",
        "    return True    "
      ],
      "execution_count": null,
      "outputs": []
    },
    {
      "cell_type": "code",
      "metadata": {
        "id": "XJx0FSEb-tV6"
      },
      "source": [
        "#Đảo ngược chuỗi(Reverse String)\r\n",
        "#abcdef ->fedcba\r\n"
      ],
      "execution_count": null,
      "outputs": []
    },
    {
      "cell_type": "code",
      "metadata": {
        "colab": {
          "base_uri": "https://localhost:8080/"
        },
        "id": "6oMMWwRcIz8b",
        "outputId": "d11eef46-ea67-4e40-f994-b4c308185e65"
      },
      "source": [
        "#Way 1\r\n",
        "\r\n",
        "str ='abcdef'\r\n",
        "print(str[::-1]) # bản chất là vòng lặp for"
      ],
      "execution_count": null,
      "outputs": [
        {
          "output_type": "stream",
          "text": [
            "fedcba\n"
          ],
          "name": "stdout"
        }
      ]
    },
    {
      "cell_type": "code",
      "metadata": {
        "colab": {
          "base_uri": "https://localhost:8080/"
        },
        "id": "yzG3D1flJFrB",
        "outputId": "000732f7-4408-4fe1-cd40-1ffb4dfd2305"
      },
      "source": [
        "#Way 2\r\n",
        "\r\n",
        "#ptu cuối cùng là len(str) -1\r\n",
        "#chạy đến phần tử -1(tức là chỉ mục 0)\r\n",
        "#chạy lùi là -1\r\n",
        "str = 'abcdef'\r\n",
        "new_str = ''\r\n",
        "for i in range(len(str)-1, -1,-1):\r\n",
        "    new_str +=str[i]\r\n",
        "print(new_str)\r\n",
        "\r\n",
        "\r\n",
        "#Time complexity O(N)\r\n",
        "#Extra Space Complexity O(N)"
      ],
      "execution_count": null,
      "outputs": [
        {
          "output_type": "stream",
          "text": [
            "fedcba\n"
          ],
          "name": "stdout"
        }
      ]
    },
    {
      "cell_type": "code",
      "metadata": {
        "id": "CBcFGz2ATWX7",
        "colab": {
          "base_uri": "https://localhost:8080/"
        },
        "outputId": "028a83b9-a114-4f09-991e-101b2264622b"
      },
      "source": [
        "#Way 3\r\n",
        "str = 'abcdef'\r\n",
        "i = 0\r\n",
        "j = len(str) - 1\r\n",
        "\r\n",
        "aList = list(str) #O(N)\r\n",
        "\r\n",
        "while i <= j: #O(N)\r\n",
        "    aList[i], aList[j] = aList[j], aList[i] #O(1)\r\n",
        "    i += 1 #O(1)\r\n",
        "    j -= 1 #O(1)\r\n",
        "str = \"\".join(aList) #O(N)\r\n",
        "print(str)\r\n",
        "\r\n",
        "#Time complexity O(N)\r\n",
        "#Extra Space Complexity O(N)"
      ],
      "execution_count": 22,
      "outputs": [
        {
          "output_type": "stream",
          "text": [
            "fedcba\n"
          ],
          "name": "stdout"
        }
      ]
    },
    {
      "cell_type": "markdown",
      "metadata": {
        "id": "w-5GXxwbdw_C"
      },
      "source": [
        "***Leetcode 709 To lower case***"
      ]
    },
    {
      "cell_type": "code",
      "metadata": {
        "id": "UNINsUFmaBgZ"
      },
      "source": [
        "#Bước 1: Tạo ra mảng rỗng\r\n",
        "#Bước 2: Lặp qua các chữ của chuỗi\r\n",
        "    #2.1 Nếu gặp kí tự hao (tức là mã ASCII của chữ này nằm trong khoảng[65,90]) \r\n",
        "        #2.1.1: Chuyển chữ này thành mã ASCII (sử dụng hàm ord() sau đó cộng thêm 32 ra mã ASCII của chữ thường)\r\n",
        "        #2.1.2: Khi có mã ASCII chữ thường thì chuyển mã này thành chữ thường đó(sử dụng hàm chr())\r\n",
        "        #2.1.3: Thêm kí tự mới này vào new_str\r\n",
        "    #2.2 Nếu gặp kí tự thường, thêm trực tiếp vào new_str"
      ],
      "execution_count": 23,
      "outputs": []
    },
    {
      "cell_type": "code",
      "metadata": {
        "id": "2UM99npHf5T4"
      },
      "source": [
        "class Solution:\r\n",
        "  def toLowerCase(seft,str:str) -> str: \r\n",
        "\r\n",
        "    new_str = ''\r\n",
        "\r\n",
        "    for letter in str:\r\n",
        "        if ord('A') <= ord(letter) <= ord('Z'):\r\n",
        "            new_str += chr(ord(letter) +32)\r\n",
        "        else:\r\n",
        "            new_str += letter \r\n",
        "    return new_str\r\n"
      ],
      "execution_count": 5,
      "outputs": []
    },
    {
      "cell_type": "code",
      "metadata": {
        "colab": {
          "base_uri": "https://localhost:8080/"
        },
        "id": "2uActh5-DJGT",
        "outputId": "0e52d231-f1f5-4159-b439-f7b10e786d7c"
      },
      "source": [
        "#way 3\r\n",
        "#create dictionary\r\n",
        "import string\r\n",
        "print(string.ascii_lowercase)\r\n",
        "print(string.ascii_uppercase)\r\n",
        "\r\n",
        "aDict = dict(zip(string.ascii_lowercase,string.ascii_uppercase))\r\n",
        "print(aDict)\r\n",
        "\r\n",
        "\r\n",
        "############################\r\n",
        "\r\n",
        "class Solution:\r\n",
        "  def toLowerCase(seft,str:str) -> str: \r\n",
        "\r\n",
        "    new_str = ''\r\n",
        "    for letter in str:\r\n",
        "        if letter in aDict:\r\n",
        "            new_str += aDict[letter]\r\n",
        "        else:\r\n",
        "            new_str += letter \r\n",
        "    return new_str\r\n"
      ],
      "execution_count": 11,
      "outputs": [
        {
          "output_type": "stream",
          "text": [
            "abcdefghijklmnopqrstuvwxyz\n",
            "ABCDEFGHIJKLMNOPQRSTUVWXYZ\n",
            "{'a': 'A', 'b': 'B', 'c': 'C', 'd': 'D', 'e': 'E', 'f': 'F', 'g': 'G', 'h': 'H', 'i': 'I', 'j': 'J', 'k': 'K', 'l': 'L', 'm': 'M', 'n': 'N', 'o': 'O', 'p': 'P', 'q': 'Q', 'r': 'R', 's': 'S', 't': 'T', 'u': 'U', 'v': 'V', 'w': 'W', 'x': 'X', 'y': 'Y', 'z': 'Z'}\n"
          ],
          "name": "stdout"
        }
      ]
    }
  ]
}
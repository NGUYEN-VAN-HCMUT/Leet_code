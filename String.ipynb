{
  "nbformat": 4,
  "nbformat_minor": 0,
  "metadata": {
    "colab": {
      "name": "String.ipynb",
      "provenance": [],
      "authorship_tag": "ABX9TyOrkFLw6n+vux22PRjx619d",
      "include_colab_link": true
    },
    "kernelspec": {
      "name": "python3",
      "display_name": "Python 3"
    }
  },
  "cells": [
    {
      "cell_type": "markdown",
      "metadata": {
        "id": "view-in-github",
        "colab_type": "text"
      },
      "source": [
        "<a href=\"https://colab.research.google.com/github/NGUYEN-VAN-HCMUT/Leet_code/blob/main/String.ipynb\" target=\"_parent\"><img src=\"https://colab.research.google.com/assets/colab-badge.svg\" alt=\"Open In Colab\"/></a>"
      ]
    },
    {
      "cell_type": "code",
      "metadata": {
        "colab": {
          "base_uri": "https://localhost:8080/"
        },
        "id": "u8CMF7dSydhB",
        "outputId": "9e35e724-d78f-432d-8766-ffbdedbaec68"
      },
      "source": [
        "#Way 1\r\n",
        "\r\n",
        "name = 'Python code'\r\n",
        "target = 0 \r\n",
        "val = 'T'\r\n",
        "new_str = ''\r\n",
        "for i in range(len(name)):\r\n",
        "    if i == target:\r\n",
        "       new_str += val\r\n",
        "    else:\r\n",
        "       new_str += name[i]\r\n",
        "print(new_str)\r\n",
        "\r\n",
        "# Time complexity O(N) (Vòng lặp for)\r\n",
        "# Space complexity O(N + N) = O(N) (Chỗ gán name + new_str)\r\n",
        "# Extra Space complexity O(N)\r\n",
        "      "
      ],
      "execution_count": 2,
      "outputs": [
        {
          "output_type": "stream",
          "text": [
            "Tython code\n"
          ],
          "name": "stdout"
        }
      ]
    },
    {
      "cell_type": "code",
      "metadata": {
        "colab": {
          "base_uri": "https://localhost:8080/"
        },
        "id": "wqLKb8pw1uaA",
        "outputId": "a97169e2-0a40-4023-d4be-8fb526aef94a"
      },
      "source": [
        "#Way 2\r\n",
        "\r\n",
        "name = list(name)\r\n",
        "name[0] = 'T'\r\n",
        "name = \"\".join(name)\r\n",
        "print(name)\r\n",
        "\r\n",
        "# Time complexity O(N) (Hàm list có sẵn bản chất cũng là Vòng lặp for)\r\n",
        "# Space complexity O(N + N) = O(N) \r\n",
        "# Extra Space complexity O(N)"
      ],
      "execution_count": 4,
      "outputs": [
        {
          "output_type": "stream",
          "text": [
            "T y t h o n   c o d e\n"
          ],
          "name": "stdout"
        }
      ]
    },
    {
      "cell_type": "code",
      "metadata": {
        "colab": {
          "base_uri": "https://localhost:8080/"
        },
        "id": "txAEDzNC_abJ",
        "outputId": "baad2db9-0127-45f3-e859-48402f9ee807"
      },
      "source": [
        "#Way 3\r\n",
        "name = name.replace('P','T')\r\n",
        "print(name)"
      ],
      "execution_count": 7,
      "outputs": [
        {
          "output_type": "stream",
          "text": [
            "T y t h o n   c o d e\n"
          ],
          "name": "stdout"
        }
      ]
    },
    {
      "cell_type": "code",
      "metadata": {
        "colab": {
          "base_uri": "https://localhost:8080/"
        },
        "id": "iEwlIPFw_rCF",
        "outputId": "36d2bbb6-f1f7-426c-cadd-c1014aeda5f2"
      },
      "source": [
        "#upperandlower\r\n",
        "\r\n",
        "name1 = name.upper()\r\n",
        "name2 = name.lower()\r\n",
        "print(name1)\r\n",
        "print(name2)"
      ],
      "execution_count": 9,
      "outputs": [
        {
          "output_type": "stream",
          "text": [
            "T Y T H O N   C O D E\n",
            "t y t h o n   c o d e\n"
          ],
          "name": "stdout"
        }
      ]
    },
    {
      "cell_type": "code",
      "metadata": {
        "colab": {
          "base_uri": "https://localhost:8080/"
        },
        "id": "9y40PmLM_9xT",
        "outputId": "b5ae6638-d882-4d06-fb40-7d1c8c90522a"
      },
      "source": [
        "#remove whitespace\r\n",
        "\r\n",
        "name = ' Python code '\r\n",
        "name = name.strip()\r\n",
        "print(name)"
      ],
      "execution_count": 1,
      "outputs": [
        {
          "output_type": "stream",
          "text": [
            "Python code\n"
          ],
          "name": "stdout"
        }
      ]
    },
    {
      "cell_type": "code",
      "metadata": {
        "colab": {
          "base_uri": "https://localhost:8080/"
        },
        "id": "t5FIWBUtyGb3",
        "outputId": "8a972a39-84e5-41a5-942f-9a9c2feb3233"
      },
      "source": [
        "#split string\r\n",
        "\r\n",
        "day ='Monday##Tuesday##Wednesday##Thursday##Friday##Saturday##Sunday'\r\n",
        "\r\n",
        "day = day.split('##')\r\n",
        "print(day)"
      ],
      "execution_count": 8,
      "outputs": [
        {
          "output_type": "stream",
          "text": [
            "['Monday', 'Tuesday', 'Wednesday', 'Thursday', 'Friday', 'Saturday', 'Sunday']\n"
          ],
          "name": "stdout"
        }
      ]
    }
  ]
}